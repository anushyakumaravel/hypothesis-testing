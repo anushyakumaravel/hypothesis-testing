{
 "cells": [
  {
   "cell_type": "markdown",
   "id": "22e54f0c-4749-456f-bf82-d9213e09de06",
   "metadata": {},
   "source": [
    "# CHI-SQUARE TEST"
   ]
  },
  {
   "cell_type": "markdown",
   "id": "e21057f1-5202-4767-9057-fc8d94c512d0",
   "metadata": {},
   "source": [
    "## Association between Device Type and Customer Satisfaction"
   ]
  },
  {
   "cell_type": "code",
   "execution_count": 14,
   "id": "4f60c493-7e7a-4eb9-a5f0-9c7470edf9b3",
   "metadata": {},
   "outputs": [
    {
     "data": {
      "text/html": [
       "<div>\n",
       "<style scoped>\n",
       "    .dataframe tbody tr th:only-of-type {\n",
       "        vertical-align: middle;\n",
       "    }\n",
       "\n",
       "    .dataframe tbody tr th {\n",
       "        vertical-align: top;\n",
       "    }\n",
       "\n",
       "    .dataframe thead th {\n",
       "        text-align: right;\n",
       "    }\n",
       "</style>\n",
       "<table border=\"1\" class=\"dataframe\">\n",
       "  <thead>\n",
       "    <tr style=\"text-align: right;\">\n",
       "      <th></th>\n",
       "      <th>Satisfaction</th>\n",
       "      <th>Smart Thermostat</th>\n",
       "      <th>Smart Light</th>\n",
       "      <th>Total</th>\n",
       "    </tr>\n",
       "  </thead>\n",
       "  <tbody>\n",
       "    <tr>\n",
       "      <th>0</th>\n",
       "      <td>Very Satisfied</td>\n",
       "      <td>50</td>\n",
       "      <td>70</td>\n",
       "      <td>120</td>\n",
       "    </tr>\n",
       "    <tr>\n",
       "      <th>1</th>\n",
       "      <td>Satisfied</td>\n",
       "      <td>80</td>\n",
       "      <td>100</td>\n",
       "      <td>180</td>\n",
       "    </tr>\n",
       "    <tr>\n",
       "      <th>2</th>\n",
       "      <td>Neutral</td>\n",
       "      <td>60</td>\n",
       "      <td>90</td>\n",
       "      <td>150</td>\n",
       "    </tr>\n",
       "    <tr>\n",
       "      <th>3</th>\n",
       "      <td>Unsatisfied</td>\n",
       "      <td>30</td>\n",
       "      <td>50</td>\n",
       "      <td>80</td>\n",
       "    </tr>\n",
       "    <tr>\n",
       "      <th>4</th>\n",
       "      <td>Very Unsatisfied</td>\n",
       "      <td>20</td>\n",
       "      <td>50</td>\n",
       "      <td>70</td>\n",
       "    </tr>\n",
       "    <tr>\n",
       "      <th>5</th>\n",
       "      <td>Total</td>\n",
       "      <td>240</td>\n",
       "      <td>360</td>\n",
       "      <td>600</td>\n",
       "    </tr>\n",
       "  </tbody>\n",
       "</table>\n",
       "</div>"
      ],
      "text/plain": [
       "       Satisfaction  Smart Thermostat  Smart Light  Total\n",
       "0    Very Satisfied                50           70    120\n",
       "1         Satisfied                80          100    180\n",
       "2           Neutral                60           90    150\n",
       "3       Unsatisfied                30           50     80\n",
       "4  Very Unsatisfied                20           50     70\n",
       "5             Total               240          360    600"
      ]
     },
     "execution_count": 14,
     "metadata": {},
     "output_type": "execute_result"
    }
   ],
   "source": [
    "import pandas as pd\n",
    "data=pd.read_csv(r\"C:\\Users\\Lenovo\\Desktop\\rskc.csv\")\n",
    "data"
   ]
  },
  {
   "cell_type": "markdown",
   "id": "83e4bc2f-bc3c-4611-aafe-61d0bb210b10",
   "metadata": {},
   "source": [
    "### 1. State the Hypotheses:\n"
   ]
  },
  {
   "cell_type": "markdown",
   "id": "0e02bf7d-ddf6-4e13-a0af-bc4f370343ee",
   "metadata": {},
   "source": [
    "###  2.Compute the Chi-Square Statistic:"
   ]
  },
  {
   "cell_type": "code",
   "execution_count": 16,
   "id": "f2265ec6-64a9-4185-8879-aca78d79cad5",
   "metadata": {},
   "outputs": [
    {
     "name": "stdout",
     "output_type": "stream",
     "text": [
      "Chi-square statistic: 5.638227513227513\n",
      "P-value: 0.22784371130697179\n",
      "Degrees of freedom: 4\n",
      "Expected frequencies:\n",
      "[[ 48.  72.]\n",
      " [ 72. 108.]\n",
      " [ 60.  90.]\n",
      " [ 32.  48.]\n",
      " [ 28.  42.]]\n",
      "Fail to reject the null hypothesis. No significant association between satisfaction level and device type.\n"
     ]
    }
   ],
   "source": [
    "import numpy as np\n",
    "from scipy.stats import chi2_contingency\n",
    "\n",
    "# Data from the contingency table\n",
    "data = [[50, 70],  # Very Satisfied\n",
    "        [80, 100],  # Satisfied\n",
    "        [60, 90],  # Neutral\n",
    "        [30, 50],  # Unsatisfied\n",
    "        [20, 50]]  # Very Unsatisfied\n",
    "\n",
    "# Perform Chi-square test of independence\n",
    "chi2, p, dof, expected = chi2_contingency(data)\n",
    "\n",
    "# Display results\n",
    "print(f\"Chi-square statistic: {chi2}\")\n",
    "print(f\"P-value: {p}\")\n",
    "print(f\"Degrees of freedom: {dof}\")\n",
    "print(\"Expected frequencies:\")\n",
    "print(expected)\n",
    "\n",
    "# Conclusion\n",
    "alpha = 0.05\n",
    "if p < alpha:\n",
    "    print(\"Reject the null hypothesis. There is an association between satisfaction level and device type.\")\n",
    "else:\n",
    "    print(\"Fail to reject the null hypothesis. No significant association between satisfaction level and device type.\")"
   ]
  },
  {
   "cell_type": "markdown",
   "id": "5137a9b5-a305-4ad7-93a0-6d1906bd2e5b",
   "metadata": {},
   "source": [
    "# Determine the Critical Value:"
   ]
  },
  {
   "cell_type": "code",
   "execution_count": 19,
   "id": "1190639c-3382-48e3-a138-a09b3d834587",
   "metadata": {},
   "outputs": [
    {
     "name": "stdout",
     "output_type": "stream",
     "text": [
      "Critical Value: 9.487729036781154\n"
     ]
    }
   ],
   "source": [
    "from scipy.stats import chi2\n",
    "\n",
    "# Degrees of freedom\n",
    "df = 4\n",
    "\n",
    "# Significance level\n",
    "alpha = 0.05\n",
    "\n",
    "# Critical value\n",
    "critical_value = chi2.ppf(1 - alpha, df)\n",
    "print(f\"Critical Value: {critical_value}\")"
   ]
  },
  {
   "cell_type": "markdown",
   "id": "e917329c-6734-468c-b62d-cfdde181b218",
   "metadata": {},
   "source": [
    "# Make a Decision:"
   ]
  },
  {
   "cell_type": "code",
   "execution_count": 25,
   "id": "b46b10a3-29fb-4cb8-967f-177684f9515d",
   "metadata": {},
   "outputs": [
    {
     "name": "stdout",
     "output_type": "stream",
     "text": [
      "Chi-square statistic: 5.638227513227513\n",
      "Critical value: 9.487729036781154\n",
      "P-value: 0.22784371130697179\n",
      "Fail to reject the null hypothesis. No significant association between satisfaction level and device type.\n"
     ]
    }
   ],
   "source": [
    "from scipy.stats import chi2, chi2_contingency\n",
    "import numpy as np\n",
    "\n",
    "# Data from the contingency table\n",
    "data = np.array([[50, 70],  # Very Satisfied\n",
    "                 [80, 100],  # Satisfied\n",
    "                 [60, 90],  # Neutral\n",
    "                 [30, 50],  # Unsatisfied\n",
    "                 [20, 50]])  # Very Unsatisfied\n",
    "\n",
    "# Perform Chi-square test of independence\n",
    "chi2_stat, p, dof, expected = chi2_contingency(data)\n",
    "\n",
    "# Degrees of freedom\n",
    "df = (data.shape[0] - 1) * (data.shape[1] - 1)\n",
    "\n",
    "# Significance level\n",
    "alpha = 0.05\n",
    "\n",
    "# Critical value\n",
    "critical_value = chi2.ppf(1 - alpha, df)\n",
    "\n",
    "\n",
    "print(f\"Chi-square statistic: {chi2_stat}\")\n",
    "print(f\"Critical value: {critical_value}\")\n",
    "print(f\"P-value: {p}\")\n",
    "\n",
    "if chi2_stat > critical_value:\n",
    "    print(\"Reject the null hypothesis. There is an association between satisfaction level and device type.\")\n",
    "else:\n",
    "    print(\"Fail to reject the null hypothesis. No significant association between satisfaction level and device type.\")"
   ]
  },
  {
   "cell_type": "code",
   "execution_count": null,
   "id": "7baa8a23-17d8-4efa-9807-e72bee332041",
   "metadata": {},
   "outputs": [],
   "source": []
  },
  {
   "cell_type": "markdown",
   "id": "0699b0f8-ce7e-45b4-9b4c-3e064fef0fcb",
   "metadata": {},
   "source": [
    "# HYPOTHESIS TESTING"
   ]
  },
  {
   "cell_type": "markdown",
   "id": "dd2683ef-fd84-4bb8-a600-f26baaed5ae4",
   "metadata": {},
   "source": [
    "## 1. State the Hypotheses statement:"
   ]
  },
  {
   "cell_type": "markdown",
   "id": "5dbb9a79-6608-4457-8f67-656903981bd7",
   "metadata": {},
   "source": [
    "# Hypotheses statement:"
   ]
  },
  {
   "cell_type": "markdown",
   "id": "5dfd8380-58c8-4ea0-bc74-db15d1ee572b",
   "metadata": {},
   "source": [
    "## We want to determine whether the observed sample mean weekly cost significantly differs from theoretical weekly cost"
   ]
  },
  {
   "cell_type": "markdown",
   "id": "73387166-53a5-4250-a4d0-76876a2fd2ee",
   "metadata": {},
   "source": [
    "# 2. calculate the test statistic\n"
   ]
  },
  {
   "cell_type": "code",
   "execution_count": null,
   "id": "2fad8c8c-b82d-43dd-877d-613af6ebf30e",
   "metadata": {},
   "outputs": [],
   "source": []
  },
  {
   "cell_type": "code",
   "execution_count": 2,
   "id": "b77504df-44ac-409b-b116-cbf01387f231",
   "metadata": {},
   "outputs": [
    {
     "name": "stdout",
     "output_type": "stream",
     "text": [
      "The test statistic (t) is: -10.406728592598157\n"
     ]
    }
   ],
   "source": [
    "import math\n",
    "import numpy as np\n",
    "import pandas as pd\n",
    "\n",
    "# Given values\n",
    "sample_mean = 3050  \n",
    "theoretical_mean = 4000  \n",
    "standard_deviation = 500  # Example value, you need to replace this with the actual standard deviation\n",
    "sample_size = 30  # Example value, you need to replace this with the actual sample size\n",
    "\n",
    "# Calculate the test statistic\n",
    "t_statistic = (sample_mean - theoretical_mean) / (standard_deviation / math.sqrt(sample_size))\n",
    "\n",
    "print(f\"The test statistic (t) is: {t_statistic}\")\n"
   ]
  },
  {
   "cell_type": "markdown",
   "id": "4eaecac4-a4b6-46fe-8772-5833dc9bb0c2",
   "metadata": {},
   "source": [
    "# 3. Determine the Critical Value:"
   ]
  },
  {
   "cell_type": "code",
   "execution_count": 5,
   "id": "cef7117a-61b7-4197-8025-c7a7196e5204",
   "metadata": {},
   "outputs": [
    {
     "name": "stdout",
     "output_type": "stream",
     "text": [
      "The critical value for alpha = 0.05 is 1.96\n"
     ]
    }
   ],
   "source": [
    "import scipy.stats as stats\n",
    "\n",
    "# Define the alpha level\n",
    "alpha = 0.05\n",
    "\n",
    "# Calculate the critical value for a two-tailed test\n",
    "critical_value = stats.norm.ppf(1 - alpha / 2)\n",
    "\n",
    "print(f\"The critical value for alpha = {alpha} is {critical_value:.2f}\")\n"
   ]
  },
  {
   "cell_type": "markdown",
   "id": "b2653773-a72d-43b0-b49a-93e6f5646831",
   "metadata": {},
   "source": [
    "# 4.Make a Decision:"
   ]
  },
  {
   "cell_type": "raw",
   "id": "f2e6d67e-e714-4914-819e-6f439350f690",
   "metadata": {},
   "source": [
    "Test Statistic (t): -10.4067\n",
    "Critical Value for α = 0.05: ±1.96 (for a two-tailed test)\n",
    "Since the test statistic (-10.4067) is much less than -1.96, it falls in the rejection region. Therefore, you reject the null hypothesis at the 0.05 significance level."
   ]
  },
  {
   "cell_type": "code",
   "execution_count": null,
   "id": "3f5190c6-03c9-4427-ad62-949e4e620402",
   "metadata": {},
   "outputs": [],
   "source": []
  },
  {
   "cell_type": "code",
   "execution_count": null,
   "id": "0b106cdb-1bc4-4fe1-8992-cc86f4dd69e4",
   "metadata": {},
   "outputs": [],
   "source": []
  },
  {
   "cell_type": "code",
   "execution_count": null,
   "id": "2a3a5950-0dc2-4b17-b2a5-eb7081629ba2",
   "metadata": {},
   "outputs": [],
   "source": []
  },
  {
   "cell_type": "code",
   "execution_count": null,
   "id": "075ae565-66f2-427f-83f2-76b744c71801",
   "metadata": {},
   "outputs": [],
   "source": []
  },
  {
   "cell_type": "code",
   "execution_count": null,
   "id": "93b4c16f-094d-4ce4-801f-cf328c32147e",
   "metadata": {},
   "outputs": [],
   "source": []
  },
  {
   "cell_type": "code",
   "execution_count": null,
   "id": "2c15d718-3c1c-48cd-97a6-df367b853a76",
   "metadata": {},
   "outputs": [],
   "source": []
  },
  {
   "cell_type": "code",
   "execution_count": null,
   "id": "3200c775-6a75-4166-9a9c-94797f45d92d",
   "metadata": {},
   "outputs": [],
   "source": []
  },
  {
   "cell_type": "code",
   "execution_count": null,
   "id": "ff990b7c-92ea-4e83-b841-5711e2da9087",
   "metadata": {},
   "outputs": [],
   "source": []
  },
  {
   "cell_type": "code",
   "execution_count": null,
   "id": "5d5edf8a-de0f-495f-8440-e8e508b02830",
   "metadata": {},
   "outputs": [],
   "source": []
  },
  {
   "cell_type": "code",
   "execution_count": null,
   "id": "97c1b9b0-1bf3-437d-8c9c-2a4b9049a2fa",
   "metadata": {},
   "outputs": [],
   "source": []
  }
 ],
 "metadata": {
  "kernelspec": {
   "display_name": "Python 3 (ipykernel)",
   "language": "python",
   "name": "python3"
  },
  "language_info": {
   "codemirror_mode": {
    "name": "ipython",
    "version": 3
   },
   "file_extension": ".py",
   "mimetype": "text/x-python",
   "name": "python",
   "nbconvert_exporter": "python",
   "pygments_lexer": "ipython3",
   "version": "3.12.4"
  }
 },
 "nbformat": 4,
 "nbformat_minor": 5
}
